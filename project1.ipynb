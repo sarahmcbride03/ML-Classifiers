{
 "cells": [
  {
   "cell_type": "markdown",
   "id": "64bf89f0",
   "metadata": {},
   "source": [
    "## Part 1: Data Preprocessing"
   ]
  },
  {
   "cell_type": "code",
   "execution_count": 1,
   "id": "23f34294",
   "metadata": {},
   "outputs": [],
   "source": [
    "import numpy as np\n",
    "import pandas as pd\n",
    "import matplotlib.pyplot as plt\n",
    "from sklearn.model_selection import train_test_split\n",
    "from sklearn.preprocessing import StandardScaler, OneHotEncoder\n",
    "from sklearn.compose import ColumnTransformer\n",
    "from sklearn.pipeline import Pipeline\n",
    "from sklearn.metrics import accuracy_score\n",
    "from sklearn.linear_model import Perceptron as SklearnPerceptron\n",
    "from sklearn.linear_model import SGDClassifier\n",
    "from sklearn.impute import SimpleImputer\n",
    "from sklearn.linear_model import LogisticRegression\n",
    "from sklearn.svm import SVC\n",
    "from sklearn.model_selection import GridSearchCV\n",
    "from matplotlib.colors import ListedColormap"
   ]
  },
  {
   "cell_type": "code",
   "execution_count": 2,
   "id": "d324fce5",
   "metadata": {},
   "outputs": [],
   "source": [
    "# Load the datasets\n",
    "train_df = pd.read_csv('project_adult.csv', na_values='?', skipinitialspace=True)\n",
    "X_validation = pd.read_csv('project_validation_inputs.csv', na_values='?', skipinitialspace=True)\n",
    "\n",
    "# Separate features (X) and target (y) from the training data\n",
    "X_train_full = train_df.drop('income', axis=1)\n",
    "y_train_full = train_df['income'].apply(lambda x: 1 if x == '>50K' else 0)\n",
    "\n",
    "# Identify categorical and numerical features\n",
    "categorical_features = X_train_full.select_dtypes(include=['object']).columns\n",
    "numerical_features = X_train_full.select_dtypes(include=['int64', 'float64']).columns\n",
    "\n",
    "# Preprocessing pipelines for numerical and categorical features\n",
    "\n",
    "numerical_transformer = Pipeline(steps=[\n",
    "    ('imputer', SimpleImputer(strategy='median')),\n",
    "    ('scaler', StandardScaler())\n",
    "])\n",
    "\n",
    "categorical_transformer = Pipeline(steps=[\n",
    "    ('imputer', SimpleImputer(strategy='most_frequent')),\n",
    "    ('onehot', OneHotEncoder(handle_unknown='ignore'))\n",
    "])\n",
    "\n",
    "# Combine the transformers using ColumnTransformer\n",
    "preprocessor = ColumnTransformer(\n",
    "    transformers=[\n",
    "        ('num', numerical_transformer, numerical_features),\n",
    "        ('cat', categorical_transformer, categorical_features)\n",
    "    ])\n",
    "\n",
    "# Fit and transform the training data\n",
    "X_train_processed = preprocessor.fit_transform(X_train_full)\n",
    "X_validation_processed = preprocessor.transform(X_validation)\n",
    "\n",
    "# Split the processed training data into training and test sets\n",
    "X_train, X_test, y_train, y_test = train_test_split(X_train_processed, y_train_full, test_size=0.2, random_state=42)"
   ]
  },
  {
   "cell_type": "markdown",
   "id": "dd46d7c6",
   "metadata": {},
   "source": [
    "## Part 2: Implementation of Perceptron and Adaline SGD"
   ]
  },
  {
   "cell_type": "code",
   "execution_count": 3,
   "id": "a663dc0f",
   "metadata": {},
   "outputs": [
    {
     "name": "stdout",
     "output_type": "stream",
     "text": [
      "Scikit-learn Perceptron accuracy: 0.7960\n",
      "Scikit-learn Adaline (SGDClassifier) accuracy: 0.7203\n"
     ]
    }
   ],
   "source": [
    "# Assumption:  This code assumes you have already clean, processed, and split a data set.\n",
    "'''\n",
    "Input Data Required:\n",
    "X_train = cleaned, processed input data for training prediction models\n",
    "y_train = response variable associated with X_train; truth values\n",
    "X_test = cleaned, processed input data for testing prediction model created on training dataset\n",
    "y_test = response variable associated with X_test; truth values\n",
    "\n",
    "Note: Current order of rows ensure y_train = X_train and y_test = X_test, but if you sort and remove rows this association changes.\n",
    "'''\n",
    "# Scikit-learn Perceptron\n",
    "sk_ppn = SklearnPerceptron(eta0=0.1, max_iter=15, random_state=42)\n",
    "sk_ppn.fit(X_train, y_train)\n",
    "sk_y_pred_ppn = sk_ppn.predict(X_test)\n",
    "print(f\"Scikit-learn Perceptron accuracy: {accuracy_score(y_test, sk_y_pred_ppn):.4f}\")\n",
    "\n",
    "# Scikit-learn Adaline (using SGDClassifier with 'log_loss' is closer, but 'perceptron' is available)\n",
    "# For Adaline (which uses GD), SGDClassifier with 'hinge' loss is a good proxy, as it's a linear classifier with regularization\n",
    "sk_ada = SGDClassifier(loss='perceptron', eta0=0.0001, learning_rate='constant', max_iter=15, random_state=42)\n",
    "sk_ada.fit(X_train, y_train)\n",
    "sk_y_pred_ada = sk_ada.predict(X_test)\n",
    "print(f\"Scikit-learn Adaline (SGDClassifier) accuracy: {accuracy_score(y_test, sk_y_pred_ada):.4f}\")"
   ]
  },
  {
   "cell_type": "markdown",
   "id": "5887d5a0",
   "metadata": {},
   "source": [
    "### b. Plot the number of misclassifications (Perceptron) and MSE (Adaline) over epochs"
   ]
  },
  {
   "cell_type": "code",
   "execution_count": 4,
   "id": "3085971a",
   "metadata": {},
   "outputs": [],
   "source": [
    "class Perceptron:\n",
    "    \"\"\"Perceptron classifier.\n",
    "\n",
    "    Parameters\n",
    "    ------------\n",
    "    eta : float\n",
    "      Learning rate (between 0.0 and 1.0)\n",
    "    n_iter : int\n",
    "      Passes over the training dataset.\n",
    "    random_state : int\n",
    "      Random number generator seed for random weight\n",
    "      initialization.\n",
    "\n",
    "    Attributes\n",
    "    -----------\n",
    "    w_ : 1d-array\n",
    "      Weights after fitting.\n",
    "    b_ : Scalar\n",
    "      Bias unit after fitting.\n",
    "    errors_ : list\n",
    "      Number of misclassifications (updates) in each epoch.\n",
    "\n",
    "    \"\"\"\n",
    "    def __init__(self, eta=0.01, n_iter=50, random_state=1):\n",
    "        self.eta = eta\n",
    "        self.n_iter = n_iter\n",
    "        self.random_state = random_state\n",
    "\n",
    "    def fit(self, X, y):\n",
    "        \"\"\"Fit training data.\n",
    "\n",
    "        Parameters\n",
    "        ----------\n",
    "        X : {array-like}, shape = [n_examples, n_features]\n",
    "          Training vectors, where n_examples is the number of examples and\n",
    "          n_features is the number of features.\n",
    "        y : array-like, shape = [n_examples]\n",
    "          Target values.\n",
    "\n",
    "        Returns\n",
    "        -------\n",
    "        self : object\n",
    "\n",
    "        \"\"\"\n",
    "        rgen = np.random.RandomState(self.random_state)\n",
    "        self.w_ = rgen.normal(loc=0.0, scale=0.01, size=X.shape[1])\n",
    "        # if you use libarry versions stated by book use float_, else if new use float64\n",
    "        # self.b_ = np.float_(0.)\n",
    "        self.b_ = np.float64(0.)\n",
    "        \n",
    "        self.errors_ = []\n",
    "\n",
    "        for _ in range(self.n_iter):\n",
    "            errors = 0\n",
    "            for xi, target in zip(X, y):\n",
    "                update = self.eta * (target - self.predict(xi))\n",
    "                self.w_ += update * xi\n",
    "                self.b_ += update\n",
    "                errors += int(update != 0.0)\n",
    "            self.errors_.append(errors)\n",
    "        return self\n",
    "\n",
    "    def net_input(self, X):\n",
    "        \"\"\"Calculate net input\"\"\"\n",
    "        return np.dot(X, self.w_) + self.b_\n",
    "\n",
    "    def predict(self, X):\n",
    "        \"\"\"Return class label after unit step\"\"\"\n",
    "        return np.where(self.net_input(X) >= 0.0, 1, 0)\n"
   ]
  },
  {
   "cell_type": "code",
   "execution_count": 5,
   "id": "d579539d",
   "metadata": {},
   "outputs": [],
   "source": [
    "class AdalineSGD:\n",
    "    \"\"\"ADAptive LInear NEuron classifier.\n",
    "\n",
    "    Parameters\n",
    "    ------------\n",
    "    eta : float\n",
    "      Learning rate (between 0.0 and 1.0)\n",
    "    n_iter : int\n",
    "      Passes over the training dataset.\n",
    "    shuffle : bool (default: True)\n",
    "      Shuffles training data every epoch if True to prevent cycles.\n",
    "    random_state : int\n",
    "      Random number generator seed for random weight\n",
    "      initialization.\n",
    "\n",
    "\n",
    "    Attributes\n",
    "    -----------\n",
    "    w_ : 1d-array\n",
    "      Weights after fitting.\n",
    "    b_ : Scalar\n",
    "        Bias unit after fitting.\n",
    "    losses_ : list\n",
    "      Mean squared error loss function value averaged over all\n",
    "      training examples in each epoch.\n",
    "\n",
    "        \n",
    "    \"\"\"\n",
    "    def __init__(self, eta=0.01, n_iter=10, shuffle=True, random_state=None):\n",
    "        self.eta = eta\n",
    "        self.n_iter = n_iter\n",
    "        self.w_initialized = False\n",
    "        self.shuffle = shuffle\n",
    "        self.random_state = random_state\n",
    "        \n",
    "    def fit(self, X, y):\n",
    "        \"\"\" Fit training data.\n",
    "\n",
    "        Parameters\n",
    "        ----------\n",
    "        X : {array-like}, shape = [n_examples, n_features]\n",
    "          Training vectors, where n_examples is the number of examples and\n",
    "          n_features is the number of features.\n",
    "        y : array-like, shape = [n_examples]\n",
    "          Target values.\n",
    "\n",
    "        Returns\n",
    "        -------\n",
    "        self : object\n",
    "\n",
    "        \"\"\"\n",
    "        self._initialize_weights(X.shape[1])\n",
    "        self.losses_ = []\n",
    "        for i in range(self.n_iter):\n",
    "            if self.shuffle:\n",
    "                X, y = self._shuffle(X, y)\n",
    "            losses = []\n",
    "            for xi, target in zip(X, y):\n",
    "                losses.append(self._update_weights(xi, target))\n",
    "            avg_loss = np.mean(losses)\n",
    "            self.losses_.append(avg_loss)\n",
    "        return self\n",
    "\n",
    "    def partial_fit(self, X, y):\n",
    "        \"\"\"Fit training data without reinitializing the weights\"\"\"\n",
    "        if not self.w_initialized:\n",
    "            self._initialize_weights(X.shape[1])\n",
    "        if y.ravel().shape[0] > 1:\n",
    "            for xi, target in zip(X, y):\n",
    "                self._update_weights(xi, target)\n",
    "        else:\n",
    "            self._update_weights(X, y)\n",
    "        return self\n",
    "\n",
    "    def _shuffle(self, X, y):\n",
    "        \"\"\"Shuffle training data\"\"\"\n",
    "        r = self.rgen.permutation(len(y))\n",
    "        return X[r], y[r]\n",
    "    \n",
    "    def _initialize_weights(self, m):\n",
    "        \"\"\"Initialize weights to small random numbers\"\"\"\n",
    "        self.rgen = np.random.RandomState(self.random_state)\n",
    "        self.w_ = self.rgen.normal(loc=0.0, scale=0.01, size=m)\n",
    "        self.b_ = np.float64(0.)\n",
    "        self.w_initialized = True\n",
    "        \n",
    "    def _update_weights(self, xi, target):\n",
    "        \"\"\"Apply Adaline learning rule to update the weights\"\"\"\n",
    "        output = self.activation(self.net_input(xi))\n",
    "        error = (target - output)\n",
    "        self.w_ += self.eta * 2.0 * xi * (error)\n",
    "        self.b_ += self.eta * 2.0 * error\n",
    "        loss = error**2\n",
    "        return loss\n",
    "    \n",
    "    def net_input(self, X):\n",
    "        \"\"\"Calculate net input\"\"\"\n",
    "        return np.dot(X, self.w_) + self.b_\n",
    "\n",
    "    def activation(self, X):\n",
    "        \"\"\"Compute linear activation\"\"\"\n",
    "        return X\n",
    "\n",
    "    def predict(self, X):\n",
    "        \"\"\"Return class label after unit step\"\"\"\n",
    "        return np.where(self.activation(self.net_input(X)) >= 0.5, 1, 0)\n"
   ]
  },
  {
   "cell_type": "code",
   "execution_count": 21,
   "id": "b98dc1d7",
   "metadata": {},
   "outputs": [
    {
     "name": "stderr",
     "output_type": "stream",
     "text": [
      "/var/folders/rr/0k6zwnnj6x17cpm35lnzy2xh0000gn/T/ipykernel_70850/2708435123.py:93: RuntimeWarning: overflow encountered in double_scalars\n",
      "  loss = error**2\n",
      "/Users/sarahmcbride/miniconda3/envs/pyml-book/lib/python3.9/site-packages/numpy/core/_methods.py:179: RuntimeWarning: overflow encountered in reduce\n",
      "  ret = umr_sum(arr, axis, dtype, out, keepdims, where=where)\n"
     ]
    },
    {
     "data": {
      "text/plain": [
       "<__main__.AdalineSGD at 0x15130c580>"
      ]
     },
     "execution_count": 21,
     "metadata": {},
     "output_type": "execute_result"
    }
   ],
   "source": [
    "#Train models\n",
    "ppn = Perceptron(eta=0.01, n_iter=15, random_state=20)\n",
    "ppn.fit(X_train.toarray() if hasattr(X_train, \"toarray\") else X_train, y_train.values)\n",
    "\n",
    "ada = AdalineSGD(eta=0.01, n_iter=15, random_state=19)\n",
    "ada.fit(X_train.toarray() if hasattr(X_train, \"toarray\") else X_train, y_train.values)"
   ]
  },
  {
   "cell_type": "code",
   "execution_count": 22,
   "id": "7faa7ac8",
   "metadata": {},
   "outputs": [
    {
     "data": {
      "image/png": "[encoded data removed]",
      "text/plain": [
       "<Figure size 1200x500 with 2 Axes>"
      ]
     },
     "metadata": {},
     "output_type": "display_data"
    }
   ],
   "source": [
    "# Create subplots\n",
    "fig, ax = plt.subplots(nrows=1, ncols=2, figsize=(12, 5))\n",
    "# Plot Perceptron misclassifications\n",
    "ax[0].plot(range(1, len(ppn.errors_) + 1), ppn.errors_, marker='o')\n",
    "ax[0].set_xlabel('Epochs')\n",
    "ax[0].set_ylabel('Number of misclassifications')\n",
    "ax[0].set_title('Perceptron - Misclassifications over Epochs')\n",
    "ax[0].grid(True)\n",
    "\n",
    "# Adaline MSE\n",
    "ax[1].plot(range(1, len(ada.losses_) + 1), ada.losses_, marker='o', color='red')\n",
    "ax[1].set_xlabel('Epochs')\n",
    "ax[1].set_ylabel('Mean Squared Error (MSE)')\n",
    "ax[1].set_title('Adaline - MSE over Epochs')\n",
    "ax[1].grid(True)\n",
    "\n",
    "plt.tight_layout()\n",
    "plt.show()"
   ]
  },
  {
   "cell_type": "markdown",
   "id": "e53b994f",
   "metadata": {},
   "source": [
    "### c. Find the accuracy of your best models from both algorithms."
   ]
  },
  {
   "cell_type": "code",
   "execution_count": 23,
   "id": "15f68f7a",
   "metadata": {},
   "outputs": [
    {
     "name": "stdout",
     "output_type": "stream",
     "text": [
      "Custom Perceptron accuracy: 0.7891\n",
      "Custom Adaline accuracy: 0.6910\n"
     ]
    }
   ],
   "source": [
    "# Calculate accuracy on test data\n",
    "X_test_dense = X_test.toarray() if hasattr(X_test, \"toarray\") else X_test\n",
    "\n",
    "# Predict with custom models\n",
    "y_pred_ppn = ppn.predict(X_test_dense)\n",
    "y_pred_ada = ada.predict(X_test_dense)\n",
    "\n",
    "# Calculate accuracy scores\n",
    "ppn_accuracy = accuracy_score(y_test, y_pred_ppn)\n",
    "ada_accuracy = accuracy_score(y_test, y_pred_ada)\n",
    "\n",
    "print(\"Custom Perceptron accuracy: {:.4f}\".format(ppn_accuracy))\n",
    "print(\"Custom Adaline accuracy: {:.4f}\".format(ada_accuracy))\n"
   ]
  },
  {
   "cell_type": "markdown",
   "id": "8e36e35e",
   "metadata": {},
   "source": [
    "### d. Use best performing models to predict outputs for project_validation_inputs."
   ]
  },
  {
   "cell_type": "code",
   "execution_count": 9,
   "id": "6aaa29e3",
   "metadata": {},
   "outputs": [],
   "source": [
    "# Ensure the validation data is dense if needed\n",
    "X_val_dense = X_validation_processed.toarray() if hasattr(X_validation_processed, \"toarray\") else X_validation_processed\n",
    "\n",
    "# -------------------------------\n",
    "# 1. Scikit-learn Perceptron\n",
    "y_val_ppn = sk_ppn.predict(X_val_dense)\n",
    "y_val_ppn_labels = np.where(y_val_ppn == 1, '>50K', '<=50K')\n",
    "pd.DataFrame(y_val_ppn_labels, columns=['PredictedIncome']).to_csv(\n",
    "    'Group_20_Perceptron_PredictedOutputs.csv', index=False\n",
    ")\n",
    "\n",
    "# -------------------------------\n",
    "# 2. Scikit-learn Adaline (SGDClassifier)\n",
    "y_val_ada = sk_ada.predict(X_val_dense)\n",
    "y_val_ada_labels = np.where(y_val_ada == 1, '>50K', '<=50K')\n",
    "pd.DataFrame(y_val_ada_labels, columns=['PredictedIncome']).to_csv(\n",
    "    'Group_20_Adaline_PredictedOutputs.csv', index=False\n",
    ")"
   ]
  },
  {
   "cell_type": "markdown",
   "id": "350303cf",
   "metadata": {},
   "source": [
    "### e. Use provided code to implement scikit-learn’s Perceptron and Adaline algorithms. Find the accuracy on the validation data using your best models for both."
   ]
  },
  {
   "cell_type": "code",
   "execution_count": 10,
   "id": "d656d8fc",
   "metadata": {},
   "outputs": [
    {
     "name": "stdout",
     "output_type": "stream",
     "text": [
      "Scikit-learn Perceptron accuracy: 0.7960\n",
      "Scikit-learn Adaline (SGDClassifier) accuracy: 0.7203\n"
     ]
    }
   ],
   "source": [
    "# Assumption:  This code assumes you have already clean, processed, and split a data set.\n",
    "'''\n",
    "Input Data Required:\n",
    "X_train = cleaned, processed input data for training prediction models\n",
    "y_train = response variable associated with X_train; truth values\n",
    "X_test = cleaned, processed input data for testing prediction model created on training dataset\n",
    "y_test = response variable associated with X_test; truth values\n",
    "\n",
    "Note: Current order of rows ensure y_train = X_train and y_test = X_test, but if you sort and remove rows this association changes.\n",
    "'''\n",
    "# Scikit-learn Perceptron\n",
    "sk_ppn = SklearnPerceptron(eta0=0.1, max_iter=15, random_state=42)\n",
    "sk_ppn.fit(X_train, y_train)\n",
    "sk_y_pred_ppn = sk_ppn.predict(X_test)\n",
    "print(f\"Scikit-learn Perceptron accuracy: {accuracy_score(y_test, sk_y_pred_ppn):.4f}\")\n",
    "\n",
    "# Scikit-learn Adaline (using SGDClassifier with 'log_loss' is closer, but 'perceptron' is available)\n",
    "# For Adaline (which uses GD), SGDClassifier with 'hinge' loss is a good proxy, as it's a linear classifier with regularization\n",
    "sk_ada = SGDClassifier(loss='perceptron', eta0=0.0001, learning_rate='constant', max_iter=15, random_state=42)\n",
    "sk_ada.fit(X_train, y_train)\n",
    "sk_y_pred_ada = sk_ada.predict(X_test)\n",
    "print(f\"Scikit-learn Adaline (SGDClassifier) accuracy: {accuracy_score(y_test, sk_y_pred_ada):.4f}\")"
   ]
  },
  {
   "cell_type": "markdown",
   "id": "72d4606b",
   "metadata": {},
   "source": [
    "### SVM & Logistic Regression"
   ]
  },
  {
   "cell_type": "code",
   "execution_count": null,
   "id": "d44d6c67",
   "metadata": {},
   "outputs": [
    {
     "name": "stdout",
     "output_type": "stream",
     "text": [
      "\n",
      "Tuning and Training Logistic Regression\n"
     ]
    }
   ],
   "source": [
    "print(\"\\nTuning and Training Logistic Regression\")\n",
    "# Define parameter grid for Logistic Regression (C: regularization strength, solvers for L1/L2)\n",
    "param_grid_lr = [{'C': [0.01, 0.1, 1.0, 10.0, 100.0], 'solver': ['lbfgs'], 'penalty': ['l2']},\n",
    "                 {'C': [0.01, 0.1, 1.0, 10.0, 100.0], 'solver': ['liblinear'], 'penalty': ['l1', 'l2']}]\n",
    "\n",
    "lr_grid = GridSearchCV(estimator=LogisticRegression(random_state=42, max_iter=1000),\n",
    "                       param_grid=param_grid_lr,\n",
    "                       scoring='accuracy',\n",
    "                       cv=5,\n",
    "                       n_jobs=-1)\n",
    "\n",
    "lr_grid.fit(X_train, y_train)\n",
    "\n",
    "best_lr = lr_grid.best_estimator_\n",
    "lr_test_accuracy = accuracy_score(y_test, best_lr.predict(X_test))\n",
    "\n",
    "print(f\"Best Logistic Regression Model Parameters: {lr_grid.best_params_}\")\n",
    "print(f\"Logistic Regression Test Accuracy: {lr_test_accuracy:.4f}\")"
   ]
  },
  {
   "cell_type": "code",
   "execution_count": null,
   "id": "c066a0e0",
   "metadata": {},
   "outputs": [],
   "source": [
    "print(\"\\nTuning and Training Support Vector Machine (SVM)\")\n",
    "# Define parameter grid for SVM (C: regularization, gamma: kernel coefficient, kernel)\n",
    "param_grid_svm = [{'C': [0.1, 1.0, 10.0], 'kernel': ['linear']},\n",
    "                  {'C': [0.1, 1.0, 10.0], 'gamma': [0.001, 0.01, 0.1, 1.0], 'kernel': ['rbf']}]\n",
    "\n",
    "svm_grid = GridSearchCV(estimator=SVC(random_state=42),\n",
    "                        param_grid=param_grid_svm,\n",
    "                        scoring='accuracy',\n",
    "                        cv=5,\n",
    "                        n_jobs=-1)\n",
    "\n",
    "svm_grid.fit(X_train, y_train)\n",
    "\n",
    "best_svm = svm_grid.best_estimator_\n",
    "svm_test_accuracy = accuracy_score(y_test, best_svm.predict(X_test))\n",
    "\n",
    "print(f\"Best SVM Model Parameters: {svm_grid.best_params_}\")\n",
    "print(f\"SVM Test Accuracy: {svm_test_accuracy:.4f}\")"
   ]
  },
  {
   "cell_type": "code",
   "execution_count": null,
   "id": "aa795769",
   "metadata": {},
   "outputs": [],
   "source": [
    "print(\"\\n[3c] Prediction on Validation Data\")\n",
    "try:\n",
    "    lr_predictions = best_lr.predict(X_val_dense)\n",
    "    svm_predictions = best_svm.predict(X_val_dense)\n",
    "    \n",
    "    print(\"\\nLogistic Regression Predictions on Validation Inputs:\")\n",
    "    print(lr_predictions)\n",
    "    print(\"\\nSVM Predictions on Validation Inputs:\")\n",
    "    print(svm_predictions)\n",
    "    \n",
    "except NameError:\n",
    "    print(\"Warning: 'project_validation_inputs' is not defined. Ensure it is loaded and preprocessed correctly.\")"
   ]
  },
  {
   "cell_type": "code",
   "execution_count": null,
   "id": "20a280d3",
   "metadata": {},
   "outputs": [],
   "source": [
    "print(\"\\n[3d] Decision Boundary Visualization (using the first two features)\")\n",
    "\n",
    "# Function to plot decision boundary\n",
    "def plot_decision_regions(X, y, classifier, resolution=0.02, feature_indices=(0, 1)):\n",
    "    \n",
    "    # Select the two features\n",
    "    X_plot = X[:, feature_indices]\n",
    "    \n",
    "    # Re-train model on only the two selected features for accurate visualization\n",
    "    X_train_2f = X_plot\n",
    "    y_train_2f = y\n",
    "    \n",
    "    # Clone the best model's settings and train on 2 features\n",
    "    classifier_2f = classifier.__class__(**classifier.get_params()).fit(X_train_2f, y_train_2f)\n",
    "    \n",
    "    markers = ('s', 'x', 'o', '^', 'v')\n",
    "    colors = ('red', 'blue', 'lightgreen', 'gray', 'cyan')\n",
    "    cmap = ListedColormap(colors[:len(np.unique(y))])\n",
    "\n",
    "    # Plot the decision surface\n",
    "    x1_min, x1_max = X_plot[:, 0].min() - 1, X_plot[:, 0].max() + 1\n",
    "    x2_min, x2_max = X_plot[:, 1].min() - 1, X_plot[:, 1].max() + 1\n",
    "    xx1, xx2 = np.meshgrid(np.arange(x1_min, x1_max, resolution),\n",
    "                           np.arange(x2_min, x2_max, resolution))\n",
    "    \n",
    "    # Predict over the meshgrid\n",
    "    Z = classifier_2f.predict(np.array([xx1.ravel(), xx2.ravel()]).T)\n",
    "    Z = Z.reshape(xx1.shape)\n",
    "    \n",
    "    plt.contourf(xx1, xx2, Z, alpha=0.3, cmap=cmap)\n",
    "    plt.xlim(xx1.min(), xx1.max())\n",
    "    plt.ylim(xx2.min(), xx2.max())\n",
    "\n",
    "    # Plot class samples\n",
    "    for idx, cl in enumerate(np.unique(y)):\n",
    "        plt.scatter(x=X_plot[y == cl, 0], \n",
    "                    y=X_plot[y == cl, 1],\n",
    "                    alpha=0.8, \n",
    "                    c=colors[idx],\n",
    "                    marker=markers[idx], \n",
    "                    label=f'Class {cl}', \n",
    "                    edgecolor='black')"
   ]
  },
  {
   "cell_type": "code",
   "execution_count": null,
   "id": "f0279545",
   "metadata": {},
   "outputs": [],
   "source": [
    "# Combine train and test data for a comprehensive visualization of the decision boundary\n",
    "X_combined = np.vstack((X_train, X_test))\n",
    "y_combined = np.hstack((y_train, y_test))\n",
    "\n",
    "plt.figure(figsize=(12, 5))\n",
    "\n",
    "# Plot Logistic Regression decision boundary\n",
    "plt.subplot(1, 2, 1)\n",
    "plot_decision_regions(X_combined, y_combined, best_lr, feature_indices=(0, 1))\n",
    "plt.xlabel('Feature 1 [Standardized]')\n",
    "plt.ylabel('Feature 2 [Standardized]')\n",
    "plt.title('Logistic Regression Decision Boundary (Features 1 & 2)')\n",
    "plt.legend(loc='upper left')\n",
    "\n",
    "# Plot SVM decision boundary\n",
    "plt.subplot(1, 2, 2)\n",
    "plot_decision_regions(X_combined, y_combined, best_svm, feature_indices=(0, 1))\n",
    "plt.xlabel('Feature 1 [Standardized]')\n",
    "plt.ylabel('Feature 2 [Standardized]')\n",
    "plt.title('SVM Decision Boundary (Features 1 & 2)')\n",
    "plt.legend(loc='upper left')\n",
    "\n",
    "plt.tight_layout()\n",
    "plt.show()"
   ]
  },
  {
   "cell_type": "code",
   "execution_count": null,
   "id": "cf311d9e",
   "metadata": {},
   "outputs": [],
   "source": [
    "# Print which model was better\n",
    "if lr_test_accuracy >= svm_test_accuracy:\n",
    "    print(f\"\\nBest overall model (based on test set accuracy): Logistic Regression ({lr_test_accuracy:.4f})\")\n",
    "else:\n",
    "    print(f\"\\nBest overall model (based on test set accuracy): SVM ({svm_test_accuracy:.4f})\")"
   ]
  }
 ],
 "metadata": {
  "kernelspec": {
   "display_name": "Python 3.9.23 64-bit ('pyml-book')",
   "language": "python",
   "name": "python3"
  },
  "language_info": {
   "codemirror_mode": {
    "name": "ipython",
    "version": 3
   },
   "file_extension": ".py",
   "mimetype": "text/x-python",
   "name": "python",
   "nbconvert_exporter": "python",
   "pygments_lexer": "ipython3",
   "version": "3.9.23"
  },
  "vscode": {
   "interpreter": {
    "hash": "a4fc8afe99e0abe024c015b816ebe4a36c506953e5c0a741cd180595135d0b16"
   }
  }
 },
 "nbformat": 4,
 "nbformat_minor": 5
}
