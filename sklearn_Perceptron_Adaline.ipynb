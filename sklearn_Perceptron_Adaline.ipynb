{
  "metadata": {
    "kernelspec": {
      "name": "python",
      "display_name": "Python (Pyodide)",
      "language": "python"
    },
    "language_info": {
      "codemirror_mode": {
        "name": "python",
        "version": 3
      },
      "file_extension": ".py",
      "mimetype": "text/x-python",
      "name": "python",
      "nbconvert_exporter": "python",
      "pygments_lexer": "ipython3",
      "version": "3.8"
    }
  },
  "nbformat_minor": 5,
  "nbformat": 4,
  "cells": [
    {
      "id": "e1da8579-debe-4680-b017-fe8df34cb314",
      "cell_type": "code",
      "source": "# scikit-learn pereptron and adaline implementations\nfrom sklearn.linear_model import Perceptron as SklearnPerceptron\nfrom sklearn.linear_model import SGDClassifier\nfrom sklearn.metrics import accuracy_score",
      "metadata": {
        "trusted": true
      },
      "outputs": [],
      "execution_count": null
    },
    {
      "id": "68242296-929b-48a1-8408-e4f5f203c9a0",
      "cell_type": "code",
      "source": "# Assumption:  This code assumes you have already clean, processed, and split a data set.\n'''\nInput Data Required:\nX_train = cleaned, processed input data for training prediction models\ny_train = response variable associated with X_train; truth values\nX_test = cleaned, processed input data for testing prediction model created on training dataset\ny_test = response variable associated with X_test; truth values\n\nNote: Current order of rows ensure y_train = X_train and y_test = X_test, but if you sort and remove rows this association changes.\n'''\n# Scikit-learn Perceptron\nsk_ppn = SklearnPerceptron(eta0=0.1, max_iter=15, random_state=42)\nsk_ppn.fit(X_train, y_train)\nsk_y_pred_ppn = sk_ppn.predict(X_test)\nprint(f\"Scikit-learn Perceptron accuracy: {accuracy_score(y_test, sk_y_pred_ppn):.4f}\")\n\n# Scikit-learn Adaline (using SGDClassifier with 'log_loss' is closer, but 'perceptron' is available)\n# For Adaline (which uses GD), SGDClassifier with 'hinge' loss is a good proxy, as it's a linear classifier with regularization\nsk_ada = SGDClassifier(loss='perceptron', eta0=0.0001, learning_rate='constant', max_iter=15, random_state=42)\nsk_ada.fit(X_train, y_train)\nsk_y_pred_ada = sk_ada.predict(X_test)\nprint(f\"Scikit-learn Adaline (SGDClassifier) accuracy: {accuracy_score(y_test, sk_y_pred_ada):.4f}\")",
      "metadata": {
        "trusted": true
      },
      "outputs": [],
      "execution_count": null
    }
  ]
}